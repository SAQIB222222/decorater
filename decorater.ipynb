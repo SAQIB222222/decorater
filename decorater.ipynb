{
 "cells": [
  {
   "cell_type": "markdown",
   "id": "6171c5cc-e53d-4766-880f-71b8d5dbf7b6",
   "metadata": {},
   "source": [
    "Q1, Create a vehicle class with an init method having instance variables as name_of_vehicle, max_speed\n",
    "and average_of_vehicle\n",
    "\n",
    "Q2. Create a child class car from the vehicle class created in Que 1, which will inherit the vehicle class.\n",
    "Create a method named seating_capacity which takes capacity as an argument and returns the name of\n",
    "the vehicle and its seating capacity.\n",
    "\n",
    "Q3. What is multiple inheritance? Write a python code to demonstrate multiple inheritance.\n",
    "\n",
    "Q4. What are getter and setter in python? Create a class and create a getter and a setter method in this\n",
    "class.\n",
    "\n",
    "Q5.What is method overriding in python? Write a python code to demonstrate method overriding.\n"
   ]
  },
  {
   "cell_type": "markdown",
   "id": "7e673ce3-8a6f-4621-a4e7-561cf6c1ac07",
   "metadata": {},
   "source": [
    "Q1"
   ]
  },
  {
   "cell_type": "code",
   "execution_count": 24,
   "id": "577d59bc-209a-4c44-b6d7-3040252c6a42",
   "metadata": {},
   "outputs": [],
   "source": [
    "class Vehicle:\n",
    "    def __init__(self, name_of_vehicle, max_speed, average_of_vehicle):\n",
    "        self.name_of_vehicle = name_of_vehicle\n",
    "        self.max_speed = max_speed\n",
    "        self.average_of_vehicle = average_of_vehicle\n"
   ]
  },
  {
   "cell_type": "markdown",
   "id": "fc025a70-8573-4359-be96-4d2b848d0d99",
   "metadata": {},
   "source": [
    "Q2"
   ]
  },
  {
   "cell_type": "code",
   "execution_count": 77,
   "id": "d5fcf27a-acf8-4301-a27d-5afac36c3fd2",
   "metadata": {},
   "outputs": [],
   "source": [
    "class Car(Vehicle):\n",
    "    def __init__(self, name_of_vehicle, max_speed, average_of_vehicle):\n",
    "        super().__init__(name_of_vehicle, max_speed, average_of_vehicle)\n",
    "\n",
    "    def seating_capacity(self, capacity):\n",
    "        return f\"{self.name_of_vehicle} has a seating capacity of {capacity} people.\"\n"
   ]
  },
  {
   "cell_type": "code",
   "execution_count": 26,
   "id": "ff1bf490-4d35-466f-985a-0cf9dc31d437",
   "metadata": {},
   "outputs": [
    {
     "name": "stdout",
     "output_type": "stream",
     "text": [
      "Toyota Camry has a seating capacity of 5 people.\n"
     ]
    }
   ],
   "source": [
    "my_car = Car(\"Toyota Camry\", 120, 30)\n",
    "print(my_car.seating_capacity(5))\n"
   ]
  },
  {
   "cell_type": "markdown",
   "id": "5c30a6f6-7282-495f-85df-6b0bb00794b8",
   "metadata": {},
   "source": [
    "Q3"
   ]
  },
  {
   "cell_type": "markdown",
   "id": "2f114866-d62d-4339-9a12-1c6baed015db",
   "metadata": {},
   "source": [
    "Multiple inheritance is a feature of object-oriented programming where a subclass can inherit from multiple parent classes. This allows the subclass to inherit attributes and methods from all of its parent classes.\n",
    "\n",
    "Here's an example of how multiple inheritance works in Python:\n",
    "\n"
   ]
  },
  {
   "cell_type": "code",
   "execution_count": 29,
   "id": "2a2c10c9-4429-46d2-96c7-247e3aed2a54",
   "metadata": {},
   "outputs": [],
   "source": [
    "class test:\n",
    "    def my_class(self):\n",
    "        return \"this is my inherintance class\"\n",
    "    "
   ]
  },
  {
   "cell_type": "code",
   "execution_count": 30,
   "id": "1c2b4515-b54e-4cf2-9c9b-54edacec9d13",
   "metadata": {},
   "outputs": [],
   "source": [
    "class test2:\n",
    "    def my_class2(self):\n",
    "        return \"this is my getter class\""
   ]
  },
  {
   "cell_type": "code",
   "execution_count": 37,
   "id": "0ce2ee1d-8fb9-4172-aabe-f8cdbfae4858",
   "metadata": {},
   "outputs": [],
   "source": [
    "class test3(test,test2):\n",
    "    def my_class3(self):\n",
    "        return \"this my setter class\"\n",
    "    "
   ]
  },
  {
   "cell_type": "code",
   "execution_count": 38,
   "id": "ed0aed38-5c73-4c58-9291-144bfaa46e12",
   "metadata": {},
   "outputs": [],
   "source": [
    "s = test3()"
   ]
  },
  {
   "cell_type": "code",
   "execution_count": 39,
   "id": "c679eafa-2777-48da-bc78-b04f564db933",
   "metadata": {},
   "outputs": [
    {
     "data": {
      "text/plain": [
       "'this is my inherintance class'"
      ]
     },
     "execution_count": 39,
     "metadata": {},
     "output_type": "execute_result"
    }
   ],
   "source": [
    "s.my_class()"
   ]
  },
  {
   "cell_type": "code",
   "execution_count": 40,
   "id": "57463bab-d659-4b10-b1c0-d92066d29512",
   "metadata": {},
   "outputs": [
    {
     "data": {
      "text/plain": [
       "'this is my getter class'"
      ]
     },
     "execution_count": 40,
     "metadata": {},
     "output_type": "execute_result"
    }
   ],
   "source": [
    "s.my_class2()"
   ]
  },
  {
   "cell_type": "code",
   "execution_count": 42,
   "id": "fcbf18b2-3374-45a2-be08-744573973bdf",
   "metadata": {},
   "outputs": [
    {
     "data": {
      "text/plain": [
       "'this my setter class'"
      ]
     },
     "execution_count": 42,
     "metadata": {},
     "output_type": "execute_result"
    }
   ],
   "source": [
    "s.my_class3()"
   ]
  },
  {
   "cell_type": "markdown",
   "id": "23e41da0-a8f3-4b98-bdd6-271af6d1789b",
   "metadata": {},
   "source": [
    "Q4"
   ]
  },
  {
   "cell_type": "markdown",
   "id": "f37de400-7fc5-4bd5-8fc1-66f2b4c38aa6",
   "metadata": {},
   "source": [
    "Getters and setters are methods used to access and modify the attributes of an object in a controlled way. In Python, they can be implemented using the @property and @<attribute_name>.setter decorators, respectively.\n",
    "\n",
    "Here's an example of how to create a class with getter and setter methods in Python:"
   ]
  },
  {
   "cell_type": "code",
   "execution_count": 69,
   "id": "ea8e27be-bd0d-4bea-8ffa-7f5e24f8920c",
   "metadata": {},
   "outputs": [],
   "source": [
    "class person:\n",
    "    def __init__(self, name, age):\n",
    "        self._name = name\n",
    "        self._age = age\n",
    "\n",
    "        \n",
    "    @property\n",
    "    def name(self):\n",
    "        return self._name\n",
    "    @name.setter\n",
    "    def name(self,value):\n",
    "        self._name = value\n",
    "    @property\n",
    "    def age(self):\n",
    "        return self._age\n",
    "    @age.setter\n",
    "    def age(self, value):\n",
    "        if value<0:\n",
    "             return \"age can not be negative\"\n",
    "        self._age = value\n",
    "        \n",
    "    "
   ]
  },
  {
   "cell_type": "code",
   "execution_count": 72,
   "id": "a0a97905-4b86-40fe-bdc5-0af71620f8ea",
   "metadata": {},
   "outputs": [],
   "source": [
    "Person = person(\"saqib\",20)"
   ]
  },
  {
   "cell_type": "code",
   "execution_count": 75,
   "id": "c0ee6d0b-146d-4dbc-badd-d5d0ccc92d9a",
   "metadata": {},
   "outputs": [],
   "source": [
    "Person.age = 34"
   ]
  },
  {
   "cell_type": "code",
   "execution_count": 76,
   "id": "44f67975-d095-4e0d-aad7-c18884e150d9",
   "metadata": {},
   "outputs": [
    {
     "data": {
      "text/plain": [
       "34"
      ]
     },
     "execution_count": 76,
     "metadata": {},
     "output_type": "execute_result"
    }
   ],
   "source": [
    "Person.age"
   ]
  },
  {
   "cell_type": "markdown",
   "id": "4b7ea075-c9d9-41ba-b5d2-b4cd002c2786",
   "metadata": {},
   "source": [
    "Q5"
   ]
  },
  {
   "cell_type": "markdown",
   "id": "add13cff-16a6-4737-806f-f66a972165ff",
   "metadata": {},
   "source": [
    "Method overriding is a concept in object-oriented programming where a subclass provides its own implementation for a method that is already defined in its superclass. When a method in a subclass has the same name, same parameters or signature, and same return type as a method in its superclass, then the method in the subclass is said to override the method in the superclass.\n",
    "\n",
    "Here is an example code in Python to demonstrate method overriding:"
   ]
  },
  {
   "cell_type": "code",
   "execution_count": 79,
   "id": "bbd1d0da-3a4f-42f1-9a95-9b0827e0d1a6",
   "metadata": {},
   "outputs": [
    {
     "name": "stdout",
     "output_type": "stream",
     "text": [
      "The animal makes a sound.\n",
      "The dog barks.\n",
      "The cat meows.\n"
     ]
    }
   ],
   "source": [
    "class Animal:\n",
    "    def __init__(self, name):\n",
    "        self.name = name\n",
    "    \n",
    "    def make_sound(self):\n",
    "        print(\"The animal makes a sound.\")\n",
    "\n",
    "class Dog(Animal):\n",
    "    def __init__(self, name):\n",
    "        super().__init__(name)\n",
    "    \n",
    "    def make_sound(self):\n",
    "        print(\"The dog barks.\")\n",
    "\n",
    "class Cat(Animal):\n",
    "    def __init__(self, name):\n",
    "        super().__init__(name)\n",
    "    \n",
    "    def make_sound(self):\n",
    "        print(\"The cat meows.\")\n",
    "\n",
    "a1 = Animal(\"Animal\")\n",
    "d1 = Dog(\"Dog\")\n",
    "c1 = Cat(\"Cat\")\n",
    "\n",
    "a1.make_sound() \n",
    "d1.make_sound() \n",
    "c1.make_sound()\n"
   ]
  },
  {
   "cell_type": "code",
   "execution_count": 89,
   "id": "e5c402e9-f6cc-4ac2-8943-93ebcff36fd6",
   "metadata": {},
   "outputs": [],
   "source": [
    "class test:\n",
    "    def __init__(self,name,age):\n",
    "        self.name = name \n",
    "        self.age = age\n",
    "    @classmethod\n",
    "    def detail(cls,name,age):\n",
    "          return cls(name,age)\n",
    "    \n",
    "    def student_details(self):\n",
    "        print(self.name,self.age)"
   ]
  },
  {
   "cell_type": "code",
   "execution_count": 93,
   "id": "0a5e615b-a267-4e9d-8ed1-f3feca491d26",
   "metadata": {},
   "outputs": [],
   "source": [
    "ps = test.detail(\"saqib\",22)"
   ]
  },
  {
   "cell_type": "code",
   "execution_count": 96,
   "id": "c9e65567-753a-47d0-976e-ae6837db5b23",
   "metadata": {},
   "outputs": [
    {
     "data": {
      "text/plain": [
       "'saqib'"
      ]
     },
     "execution_count": 96,
     "metadata": {},
     "output_type": "execute_result"
    }
   ],
   "source": [
    "ps.name\n"
   ]
  },
  {
   "cell_type": "code",
   "execution_count": null,
   "id": "c1d80f8a-c0fa-4fdc-8ad3-fd2c4d5a4063",
   "metadata": {},
   "outputs": [],
   "source": []
  }
 ],
 "metadata": {
  "kernelspec": {
   "display_name": "Python 3 (ipykernel)",
   "language": "python",
   "name": "python3"
  },
  "language_info": {
   "codemirror_mode": {
    "name": "ipython",
    "version": 3
   },
   "file_extension": ".py",
   "mimetype": "text/x-python",
   "name": "python",
   "nbconvert_exporter": "python",
   "pygments_lexer": "ipython3",
   "version": "3.10.8"
  }
 },
 "nbformat": 4,
 "nbformat_minor": 5
}
